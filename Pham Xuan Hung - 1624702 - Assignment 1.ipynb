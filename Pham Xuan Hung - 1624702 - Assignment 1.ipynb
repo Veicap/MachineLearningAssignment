{
 "cells": [
  {
   "cell_type": "markdown",
   "id": "a2c6b3c7-662f-437f-86d6-6d4907a8a0d6",
   "metadata": {},
   "source": [
    "Import library"
   ]
  },
  {
   "cell_type": "code",
   "execution_count": 60,
   "id": "b49cfe0f-49bd-41fc-aa02-a175e146cb8a",
   "metadata": {},
   "outputs": [],
   "source": [
    "import os\n",
    "import time\n",
    "import datetime\n",
    "import pandas as pd\n",
    "from sklearn.model_selection import train_test_split\n",
    "import numpy as np\n",
    "import sklearn\n",
    "import matplotlib.pyplot as plt\n",
    "import seaborn as sb"
   ]
  },
  {
   "cell_type": "markdown",
   "id": "7cf3dc49-322f-4277-88b3-f35ee984dd7c",
   "metadata": {},
   "source": [
    "Read file cvs"
   ]
  },
  {
   "cell_type": "code",
   "execution_count": 61,
   "id": "2cc28b6d-3eb5-4190-b03c-2aa02b9a1449",
   "metadata": {},
   "outputs": [],
   "source": [
    "url = \"https://raw.githubusercontent.com/Veicap/MachineLearningAssignment/refs/heads/main/uncleandata.csv\"\n",
    "df = pd.read_csv(url)"
   ]
  },
  {
   "cell_type": "code",
   "execution_count": 62,
   "id": "e79614a6-4d21-4ace-808c-7dc026d46eab",
   "metadata": {},
   "outputs": [
    {
     "name": "stdout",
     "output_type": "stream",
     "text": [
      "   satisfaction_level  last_evaluation  number_project  average_montly_hours  \\\n",
      "0                0.38             0.53               2                 157.0   \n",
      "1                0.80             0.86               5                 262.0   \n",
      "2                0.11             0.88               7                 272.0   \n",
      "3                0.72             0.87               5                 223.0   \n",
      "4                0.37             0.52               2                   NaN   \n",
      "\n",
      "   time_spend_company  work_accident left  promotion_last_5years is_smoker  \\\n",
      "0                 3.0              0  yes                      0       NaN   \n",
      "1                 6.0              0  yes                      0       yes   \n",
      "2                 4.0              0  yes                      0       NaN   \n",
      "3                 5.0              0  yes                      0       NaN   \n",
      "4                 NaN              0  yes                      0        no   \n",
      "\n",
      "  department  salary  \n",
      "0      sales     low  \n",
      "1      sales  medium  \n",
      "2      sales  medium  \n",
      "3      sales     low  \n",
      "4      sales     low  \n"
     ]
    }
   ],
   "source": [
    "print(df.head())"
   ]
  },
  {
   "cell_type": "markdown",
   "id": "8e7d32a9-7ef8-4ca7-961c-481f26ff7210",
   "metadata": {},
   "source": [
    "Question 1: How many rows are there ?"
   ]
  },
  {
   "cell_type": "code",
   "execution_count": 63,
   "id": "bf16c51c-83ae-4c75-b048-721e9e34de67",
   "metadata": {},
   "outputs": [
    {
     "name": "stdout",
     "output_type": "stream",
     "text": [
      "number of rows is: 15099\n"
     ]
    }
   ],
   "source": [
    "num_rows = len(df)\n",
    "print(f\"number of rows is: {num_rows}\")"
   ]
  },
  {
   "cell_type": "markdown",
   "id": "9a5f9c97-3a9b-42c1-8b79-24b4bde5d55c",
   "metadata": {},
   "source": [
    "Question 2: How many columns are there ? What are they ?"
   ]
  },
  {
   "cell_type": "code",
   "execution_count": 64,
   "id": "76fbfc9e-154b-4379-ba62-3a6ce6a55bd1",
   "metadata": {},
   "outputs": [
    {
     "name": "stdout",
     "output_type": "stream",
     "text": [
      "number of columns is: 11\n",
      "Name of each column is: \n",
      "- satisfaction_level\n",
      "- last_evaluation\n",
      "- number_project\n",
      "- average_montly_hours\n",
      "- time_spend_company\n",
      "- work_accident\n",
      "- left\n",
      "- promotion_last_5years\n",
      "- is_smoker\n",
      "- department\n",
      "- salary\n"
     ]
    }
   ],
   "source": [
    "num_columns = len(df.columns)\n",
    "columns_name = df.columns.tolist()\n",
    "print(f\"number of columns is: {num_columns}\")\n",
    "print(\"Name of each column is: \")\n",
    "for col in columns_name:\n",
    "    print(f\"- {col}\")"
   ]
  },
  {
   "cell_type": "markdown",
   "id": "167b3ff7-e3ba-4faa-bc21-7ca4d4326ac2",
   "metadata": {},
   "source": [
    "Question 3: How many features? What are they ?"
   ]
  },
  {
   "cell_type": "code",
   "execution_count": 65,
   "id": "3fedd468-2704-4743-b994-971efdcb6903",
   "metadata": {},
   "outputs": [
    {
     "name": "stdout",
     "output_type": "stream",
     "text": [
      "number of features is: 11\n",
      "Name of each feature is: \n",
      "- satisfaction_level\n",
      "- last_evaluation\n",
      "- number_project\n",
      "- average_montly_hours\n",
      "- time_spend_company\n",
      "- work_accident\n",
      "- left\n",
      "- promotion_last_5years\n",
      "- is_smoker\n",
      "- department\n",
      "- salary\n"
     ]
    }
   ],
   "source": [
    "num_features = len(df.columns)\n",
    "feature_names = df.columns.tolist()\n",
    "print(f\"number of features is: {num_features}\")\n",
    "print(\"Name of each feature is: \")\n",
    "for feature in feature_names:\n",
    "    print(f\"- {feature}\")"
   ]
  },
  {
   "cell_type": "markdown",
   "id": "233cdc87-29a4-4e7f-885b-a9697b752024",
   "metadata": {},
   "source": [
    "Question 4: How many duplicates if any ?"
   ]
  },
  {
   "cell_type": "code",
   "execution_count": 66,
   "id": "d9abb6a1-01b9-4b32-a2cc-04ba2a10ce9f",
   "metadata": {},
   "outputs": [
    {
     "name": "stdout",
     "output_type": "stream",
     "text": [
      "number of duplicates is: 2840\n"
     ]
    }
   ],
   "source": [
    "num_duplicates = df.duplicated().sum()\n",
    "print(f\"number of duplicates is: {num_duplicates}\")"
   ]
  },
  {
   "cell_type": "markdown",
   "id": "7f9af8fb-ebd9-44cb-ab52-a1cb2aa0153d",
   "metadata": {},
   "source": [
    "Question 5: Remove duplicates if there are any."
   ]
  },
  {
   "cell_type": "code",
   "execution_count": 67,
   "id": "e6851de3-33ac-4d13-938e-866a1415130a",
   "metadata": {},
   "outputs": [
    {
     "name": "stdout",
     "output_type": "stream",
     "text": [
      "number of duplicates is: 0\n"
     ]
    }
   ],
   "source": [
    "df = df.drop_duplicates()\n",
    "test = df.duplicated().sum()\n",
    "print(f\"number of duplicates is: {test}\")"
   ]
  },
  {
   "cell_type": "markdown",
   "id": "295e05b7-dd43-4a6a-a560-3e6e46d20e72",
   "metadata": {},
   "source": [
    "Question 6: Print the distributions of each features. What do you see ?"
   ]
  },
  {
   "cell_type": "code",
   "execution_count": 68,
   "id": "964d138f-51c3-4dae-8d70-74f71ccd105a",
   "metadata": {},
   "outputs": [
    {
     "data": {
      "image/png": "[encoded data removed]",
      "text/plain": [
       "<Figure size 1000x800 with 9 Axes>"
      ]
     },
     "metadata": {},
     "output_type": "display_data"
    },
    {
     "name": "stdout",
     "output_type": "stream",
     "text": [
      "Distribution for left:\n",
      "left\n",
      "no     10144\n",
      "yes     2115\n",
      "Name: count, dtype: int64\n",
      "--------------------------------------------------\n",
      "Distribution for is_smoker:\n",
      "is_smoker\n",
      "no     180\n",
      "yes     55\n",
      "Name: count, dtype: int64\n",
      "--------------------------------------------------\n",
      "Distribution for department:\n",
      "department\n",
      "sales          3321\n",
      "technical      2282\n",
      "support        1861\n",
      "IT              998\n",
      "product_mng     704\n",
      "RandD           698\n",
      "marketing       690\n",
      "accounting      629\n",
      "hr              611\n",
      "management      465\n",
      "Name: count, dtype: int64\n",
      "--------------------------------------------------\n",
      "Distribution for salary:\n",
      "salary\n",
      "low       5872\n",
      "medium    5360\n",
      "high      1027\n",
      "Name: count, dtype: int64\n",
      "--------------------------------------------------\n"
     ]
    }
   ],
   "source": [
    "# Plot histograms for all columns with numerical data types\n",
    "df.hist(bins=20, figsize=(10, 8))\n",
    "plt.suptitle('Histograms of Features')\n",
    "plt.show()\n",
    "# Check the distribution for categorical columns\n",
    "for column in df.select_dtypes(include=['object']).columns:\n",
    "    print(f\"Distribution for {column}:\")\n",
    "    print(df[column].value_counts())\n",
    "    print(\"-\" * 50)"
   ]
  },
  {
   "cell_type": "markdown",
   "id": "ac2fcbb1-e068-436d-a860-24287fccfcb3",
   "metadata": {},
   "source": [
    "Question 7: How many missing values are there ? What features have missing values ?"
   ]
  },
  {
   "cell_type": "code",
   "execution_count": 69,
   "id": "940d1f64-c5d9-4d30-855f-e1918fc65142",
   "metadata": {},
   "outputs": [
    {
     "name": "stdout",
     "output_type": "stream",
     "text": [
      "Number of missing values in each column:\n",
      "satisfaction_level           0\n",
      "last_evaluation              0\n",
      "number_project               0\n",
      "average_montly_hours       368\n",
      "time_spend_company         150\n",
      "work_accident                0\n",
      "left                         0\n",
      "promotion_last_5years        0\n",
      "is_smoker                12024\n",
      "department                   0\n",
      "salary                       0\n",
      "dtype: int64\n",
      "\n",
      "Features with missing values:\n",
      "['average_montly_hours', 'time_spend_company', 'is_smoker']\n",
      "\n",
      "Total number of missing values in the DataFrame: 12542\n"
     ]
    }
   ],
   "source": [
    "missing_values = df.isnull().sum()\n",
    "print(\"Number of missing values in each column:\")\n",
    "print(missing_values)\n",
    "\n",
    "columns_with_missing_values = missing_values[missing_values > 0].index.tolist()\n",
    "print(\"\\nFeatures with missing values:\")\n",
    "print(columns_with_missing_values)\n",
    "\n",
    "total_missing = missing_values.sum()\n",
    "print(f\"\\nTotal number of missing values in the DataFrame: {total_missing}\")"
   ]
  },
  {
   "cell_type": "markdown",
   "id": "27592ab3-61e2-484e-80db-dccdfdba52aa",
   "metadata": {},
   "source": [
    "Question 8: Drop the features with largest number of missing values and fill up the rest of the features with missing values with mean. Can you explain why did we drop the feature with largest portion of missing values in this case ?"
   ]
  },
  {
   "cell_type": "code",
   "execution_count": 70,
   "id": "1fa28d3c-9eac-4546-9364-c1f67a09a13b",
   "metadata": {},
   "outputs": [
    {
     "name": "stdout",
     "output_type": "stream",
     "text": [
      "Feature 'is_smoker' has been dropped due to having the largest number of missing values.\n"
     ]
    }
   ],
   "source": [
    "missing_values = df.isnull().sum()\n",
    "column_with_max_missing = missing_values.idxmax() \n",
    "df.drop(columns=[column_with_max_missing], inplace=True)\n",
    "mean_values = df.select_dtypes(include=['float64', 'int64']).mean()\n",
    "df.fillna(mean_values, inplace=True)\n",
    "print(f\"Feature '{column_with_max_missing}' has been dropped due to having the largest number of missing values.\")\n"
   ]
  },
  {
   "cell_type": "markdown",
   "id": "f7aead01-4692-455f-8026-40a9afee4970",
   "metadata": {},
   "source": [
    "In this case, we drop the column with the largest number of missing values because:\n",
    "\n",
    "1. Poor data quality: A column with too many missing values may not provide much useful information. If a column has too many missing values, it may no longer be valuable for accurate analysis or modeling.\n",
    "2. Impact on the model: Keeping a column with a large number of missing values can reduce the effectiveness of the model or analysis. This is especially important when there is a significant amount of missing data, as the model may not be able to learn much from that column.\n",
    "3. A reasonable alternative: Dropping this column helps reduce complexity and allows us to focus on columns with more complete data."
   ]
  },
  {
   "cell_type": "markdown",
   "id": "f222090a-9643-490f-aaf0-794033d52d66",
   "metadata": {},
   "source": [
    "Question 9:  Show that there are no missing values in the data at this point."
   ]
  },
  {
   "cell_type": "code",
   "execution_count": 71,
   "id": "a3695499-731b-45c7-8a70-2316129727fa",
   "metadata": {},
   "outputs": [
    {
     "name": "stdout",
     "output_type": "stream",
     "text": [
      "Remaining missing values:\n",
      "satisfaction_level       0\n",
      "last_evaluation          0\n",
      "number_project           0\n",
      "average_montly_hours     0\n",
      "time_spend_company       0\n",
      "work_accident            0\n",
      "left                     0\n",
      "promotion_last_5years    0\n",
      "department               0\n",
      "salary                   0\n",
      "dtype: int64\n"
     ]
    }
   ],
   "source": [
    "print(\"Remaining missing values:\")\n",
    "print(df.isnull().sum())"
   ]
  },
  {
   "cell_type": "markdown",
   "id": "1da3e3cb-c865-4fdc-aa8c-2d01ddb9faf5",
   "metadata": {},
   "source": [
    "Question 10: Feature \"left\" has values 'yes' and 'no'. Convert those values into integer values, 1 and 0."
   ]
  },
  {
   "cell_type": "code",
   "execution_count": 73,
   "id": "dbe638a5-d0c4-444d-a647-dfca105a44a5",
   "metadata": {},
   "outputs": [
    {
     "name": "stdout",
     "output_type": "stream",
     "text": [
      "0    1\n",
      "1    1\n",
      "2    1\n",
      "3    1\n",
      "4    1\n",
      "Name: left, dtype: int64\n"
     ]
    }
   ],
   "source": [
    "df['left'] = df['left'].replace({'yes': 1, 'no': 0})\n",
    "print(df['left'].head())"
   ]
  },
  {
   "cell_type": "markdown",
   "id": "89acb0d9-e19a-4c3a-b98a-eba3c56b5360",
   "metadata": {},
   "source": [
    "Question 11: Save the resulting data into a file."
   ]
  },
  {
   "cell_type": "code",
   "execution_count": 74,
   "id": "57d1e1cd-6fe3-40e9-bde0-2e336dd67f6c",
   "metadata": {},
   "outputs": [
    {
     "name": "stdout",
     "output_type": "stream",
     "text": [
      "Data has been saved to 'clean_data_file.csv'\n"
     ]
    }
   ],
   "source": [
    "output_file_path = 'clean_data_file.csv' \n",
    "df.to_csv(output_file_path, index=False)\n",
    "print(f\"Data has been saved to '{output_file_path}'\")"
   ]
  },
  {
   "cell_type": "markdown",
   "id": "f18d603c-8d12-4525-a076-7a57d25e1a8d",
   "metadata": {},
   "source": [
    "Question 13: Divide the data into training set(80%) and test set(20%) and show the number of data points in each by following\n",
    "1. Uniform sampling\n",
    "2. Stratified sampling based on the ratio of \"yes\" and \"no\" values of feature \"left\"\n",
    "3. How would you do the test set and training set sampling and why ?"
   ]
  },
  {
   "cell_type": "markdown",
   "id": "dbc382a7-bf46-4c2d-9a35-c70d3fea7380",
   "metadata": {},
   "source": [
    "1. Uniform sampling"
   ]
  },
  {
   "cell_type": "code",
   "execution_count": 75,
   "id": "f08aa1a3-af51-49f2-92ff-6cbd70ba76d5",
   "metadata": {},
   "outputs": [
    {
     "name": "stdout",
     "output_type": "stream",
     "text": [
      "Number of data points in the training set (uniform): 9807\n",
      "Number of data points in the test set (uniform): 2452\n"
     ]
    }
   ],
   "source": [
    "X = df.drop('left', axis=1) \n",
    "y = df['left']\n",
    "\n",
    "X_train, X_test, y_train, y_test = train_test_split(X, y, test_size=0.2, random_state=42)\n",
    "\n",
    "print(f\"Number of data points in the training set (uniform): {len(X_train)}\")\n",
    "print(f\"Number of data points in the test set (uniform): {len(X_test)}\")"
   ]
  },
  {
   "cell_type": "markdown",
   "id": "1d9feca5-9621-4f79-83a1-ed96322b97ca",
   "metadata": {},
   "source": [
    "2. Stratified sampling based on the ratio of \"yes\" and \"no\" values of feature \"left\""
   ]
  },
  {
   "cell_type": "code",
   "execution_count": 76,
   "id": "fc5f4560-e578-4bd2-94c6-526fe4806533",
   "metadata": {},
   "outputs": [
    {
     "name": "stdout",
     "output_type": "stream",
     "text": [
      "Number of data points in the training set (stratified): 9807\n",
      "Number of data points in the test set (stratified): 2452\n",
      "Train set class distribution (stratified): \n",
      "left\n",
      "0    0.82747\n",
      "1    0.17253\n",
      "Name: proportion, dtype: float64\n",
      "Test set class distribution (stratified): \n",
      "left\n",
      "0    0.827488\n",
      "1    0.172512\n",
      "Name: proportion, dtype: float64\n"
     ]
    }
   ],
   "source": [
    "X_train_stratified, X_test_stratified, y_train_stratified, y_test_stratified = train_test_split(\n",
    "    X, y, test_size=0.2, stratify=y, random_state=42\n",
    ")\n",
    "\n",
    "print(f\"Number of data points in the training set (stratified): {len(X_train_stratified)}\")\n",
    "print(f\"Number of data points in the test set (stratified): {len(X_test_stratified)}\")\n",
    "\n",
    "print(f\"Train set class distribution (stratified): \\n{y_train_stratified.value_counts(normalize=True)}\")\n",
    "print(f\"Test set class distribution (stratified): \\n{y_test_stratified.value_counts(normalize=True)}\")"
   ]
  },
  {
   "cell_type": "markdown",
   "id": "65aa66dd-cf95-4474-8481-44aa203491ba",
   "metadata": {},
   "source": [
    "3. How would you do the test set and training set sampling and why ?"
   ]
  },
  {
   "cell_type": "markdown",
   "id": "929a5f85-565c-408f-b97b-3276f4479c9a",
   "metadata": {},
   "source": [
    "I would to use stratified sampling because it the better choice when your dataset has an imbalanced class distribution (e.g., the \"yes\" and \"no\" values in the left feature). It ensures that the class proportions are preserved in both the training and test sets, leading to better model performance and evaluation."
   ]
  }
 ],
 "metadata": {
  "kernelspec": {
   "display_name": "Python 3 (ipykernel)",
   "language": "python",
   "name": "python3"
  },
  "language_info": {
   "codemirror_mode": {
    "name": "ipython",
    "version": 3
   },
   "file_extension": ".py",
   "mimetype": "text/x-python",
   "name": "python",
   "nbconvert_exporter": "python",
   "pygments_lexer": "ipython3",
   "version": "3.12.4"
  }
 },
 "nbformat": 4,
 "nbformat_minor": 5
}
